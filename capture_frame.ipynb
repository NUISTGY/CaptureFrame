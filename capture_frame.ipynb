{
 "cells": [
  {
   "cell_type": "code",
   "execution_count": 3,
   "metadata": {},
   "outputs": [
    {
     "name": "stdout",
     "output_type": "stream",
     "text": [
      "Frame1is saved\n",
      "Frame2is saved\n",
      "Frame3is saved\n",
      "Frame4is saved\n",
      "Frame5is saved\n",
      "Frame6is saved\n",
      "Frame7is saved\n",
      "Frame8is saved\n",
      "Frame9is saved\n",
      "Frame10is saved\n",
      "Frame11is saved\n"
     ]
    }
   ],
   "source": [
    "import cv2\n",
    " \n",
    "#读入目标视频：\n",
    "vc = cv2.VideoCapture(r'E:\\JupyterWorkspace\\FakeFace\\FakeVideo\\1.avi') \n",
    "n = 1\n",
    " \n",
    "# 判断是否正常打开\n",
    "if vc.isOpened(): \n",
    "    rval, frame = vc.read()\n",
    "else:\n",
    "    rval = False\n",
    " \n",
    "#设置间隔帧\n",
    "timeF = 10 \n",
    " \n",
    "# 循环读取视频帧\n",
    "i = 0\n",
    "while rval:  \n",
    "    rval, frame = vc.read()\n",
    "    if (n % timeF == 0): \n",
    "        i += 1\n",
    "        print(\"Frame \"+str(i)+\" is saved\")\n",
    "        cv2.imwrite(r'E:\\JupyterWorkspace\\FakeFace\\pic\\{}.jpg'.format(i), frame)  \n",
    "    n = n + 1\n",
    "    cv2.waitKey(1)\n",
    "vc.release()\n"
   ]
  },
  {
   "cell_type": "code",
   "execution_count": null,
   "metadata": {},
   "outputs": [],
   "source": []
  }
 ],
 "metadata": {
  "kernelspec": {
   "display_name": "Python 3",
   "language": "python",
   "name": "python3"
  },
  "language_info": {
   "codemirror_mode": {
    "name": "ipython",
    "version": 3
   },
   "file_extension": ".py",
   "mimetype": "text/x-python",
   "name": "python",
   "nbconvert_exporter": "python",
   "pygments_lexer": "ipython3",
   "version": "3.6.4"
  }
 },
 "nbformat": 4,
 "nbformat_minor": 2
}
